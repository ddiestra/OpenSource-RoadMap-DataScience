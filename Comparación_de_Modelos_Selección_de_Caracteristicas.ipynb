{
  "nbformat": 4,
  "nbformat_minor": 0,
  "metadata": {
    "colab": {
      "name": "Comparación de Modelos  - Selección de Caracteristicas",
      "provenance": [],
      "toc_visible": true,
      "authorship_tag": "ABX9TyM/Fqug+AKhQ4eChlO5S+79",
      "include_colab_link": true
    },
    "kernelspec": {
      "name": "python3",
      "display_name": "Python 3"
    }
  },
  "cells": [
    {
      "cell_type": "markdown",
      "metadata": {
        "id": "view-in-github",
        "colab_type": "text"
      },
      "source": [
        "<a href=\"https://colab.research.google.com/github/ddiestra/OpenSource-RoadMap-DataScience/blob/master/Comparaci%C3%B3n_de_Modelos_Selecci%C3%B3n_de_Caracteristicas.ipynb\" target=\"_parent\"><img src=\"https://colab.research.google.com/assets/colab-badge.svg\" alt=\"Open In Colab\"/></a>"
      ]
    },
    {
      "cell_type": "markdown",
      "metadata": {
        "id": "Ao5Xptodqtxp",
        "colab_type": "text"
      },
      "source": [
        "##Comparación de Modelos  "
      ]
    },
    {
      "cell_type": "markdown",
      "metadata": {
        "id": "7TxYDgErqyHG",
        "colab_type": "text"
      },
      "source": [
        "###Lectura de la Data"
      ]
    },
    {
      "cell_type": "code",
      "metadata": {
        "id": "_i-xgbj6qSu9",
        "colab_type": "code",
        "colab": {
          "base_uri": "https://localhost:8080/",
          "height": 305
        },
        "outputId": "996cc70b-1855-4ae0-c0f7-4d3b122c32f6"
      },
      "source": [
        "!wget https://archive.ics.uci.edu/ml/machine-learning-databases/00459/avila.zip\n",
        "!unzip avila.zip"
      ],
      "execution_count": null,
      "outputs": [
        {
          "output_type": "stream",
          "text": [
            "--2020-07-05 15:23:41--  https://archive.ics.uci.edu/ml/machine-learning-databases/00459/avila.zip\n",
            "Resolving archive.ics.uci.edu (archive.ics.uci.edu)... 128.195.10.252\n",
            "Connecting to archive.ics.uci.edu (archive.ics.uci.edu)|128.195.10.252|:443... connected.\n",
            "HTTP request sent, awaiting response... 200 OK\n",
            "Length: 584600 (571K) [application/x-httpd-php]\n",
            "Saving to: ‘avila.zip’\n",
            "\n",
            "avila.zip           100%[===================>] 570.90K   736KB/s    in 0.8s    \n",
            "\n",
            "2020-07-05 15:23:42 (736 KB/s) - ‘avila.zip’ saved [584600/584600]\n",
            "\n",
            "Archive:  avila.zip\n",
            "   creating: avila/\n",
            "  inflating: avila/avila-tr.txt      \n",
            "  inflating: avila/avila-ts.txt      \n",
            "  inflating: avila/avila-description.txt  \n"
          ],
          "name": "stdout"
        }
      ]
    },
    {
      "cell_type": "code",
      "metadata": {
        "id": "ttXoBVYCrPGR",
        "colab_type": "code",
        "colab": {}
      },
      "source": [
        "import pandas as pd\n",
        "import numpy as np\n",
        "from sklearn.tree import DecisionTreeClassifier\n",
        "from sklearn.ensemble import RandomForestClassifier\n",
        "from sklearn.neighbors import KNeighborsClassifier\n",
        "from sklearn.metrics import f1_score\n",
        "from sklearn.preprocessing import LabelEncoder\n",
        "labelencoder = LabelEncoder()"
      ],
      "execution_count": 176,
      "outputs": []
    },
    {
      "cell_type": "code",
      "metadata": {
        "id": "A4_A_p6RrLXy",
        "colab_type": "code",
        "colab": {}
      },
      "source": [
        "file_name = \"avila/avila-tr.txt\"\n",
        "column_names = ['intercolumnar_distance', 'upper_margin', 'lower_margin', 'exploitation', 'row_number', 'modular_ratio', 'interlinear_spacing', 'weight', 'peak_number', 'mr_is', 'class'];\n",
        "dataset = pd.read_csv(file_name,  header=None, names=column_names)\n",
        "labelencoder.fit(dataset['class']);\n",
        "dataset['class'] = labelencoder.transform(dataset['class'])"
      ],
      "execution_count": 177,
      "outputs": []
    },
    {
      "cell_type": "code",
      "metadata": {
        "id": "5R7zseJxs-KY",
        "colab_type": "code",
        "colab": {}
      },
      "source": [
        "file_test = \"avila/avila-ts.txt\"\n",
        "dataset_test = pd.read_csv(file_test,  header=None, names=column_names)\n",
        "dataset_test['class'] = labelencoder.transform(dataset_test['class'])"
      ],
      "execution_count": 178,
      "outputs": []
    },
    {
      "cell_type": "code",
      "metadata": {
        "id": "UZUujalSrZ5l",
        "colab_type": "code",
        "colab": {
          "base_uri": "https://localhost:8080/",
          "height": 224
        },
        "outputId": "ebee03d1-f4b4-47ee-e58f-eaa3234663c5"
      },
      "source": [
        "dataset.head()"
      ],
      "execution_count": null,
      "outputs": [
        {
          "output_type": "execute_result",
          "data": {
            "text/html": [
              "<div>\n",
              "<style scoped>\n",
              "    .dataframe tbody tr th:only-of-type {\n",
              "        vertical-align: middle;\n",
              "    }\n",
              "\n",
              "    .dataframe tbody tr th {\n",
              "        vertical-align: top;\n",
              "    }\n",
              "\n",
              "    .dataframe thead th {\n",
              "        text-align: right;\n",
              "    }\n",
              "</style>\n",
              "<table border=\"1\" class=\"dataframe\">\n",
              "  <thead>\n",
              "    <tr style=\"text-align: right;\">\n",
              "      <th></th>\n",
              "      <th>intercolumnar_distance</th>\n",
              "      <th>upper_margin</th>\n",
              "      <th>lower_margin</th>\n",
              "      <th>exploitation</th>\n",
              "      <th>row_number</th>\n",
              "      <th>modular_ratio</th>\n",
              "      <th>interlinear_spacing</th>\n",
              "      <th>weight</th>\n",
              "      <th>peak_number</th>\n",
              "      <th>mr_is</th>\n",
              "      <th>class</th>\n",
              "    </tr>\n",
              "  </thead>\n",
              "  <tbody>\n",
              "    <tr>\n",
              "      <th>0</th>\n",
              "      <td>0.266074</td>\n",
              "      <td>-0.165620</td>\n",
              "      <td>0.320980</td>\n",
              "      <td>0.483299</td>\n",
              "      <td>0.172340</td>\n",
              "      <td>0.273364</td>\n",
              "      <td>0.371178</td>\n",
              "      <td>0.929823</td>\n",
              "      <td>0.251173</td>\n",
              "      <td>0.159345</td>\n",
              "      <td>0</td>\n",
              "    </tr>\n",
              "    <tr>\n",
              "      <th>1</th>\n",
              "      <td>0.130292</td>\n",
              "      <td>0.870736</td>\n",
              "      <td>-3.210528</td>\n",
              "      <td>0.062493</td>\n",
              "      <td>0.261718</td>\n",
              "      <td>1.436060</td>\n",
              "      <td>1.465940</td>\n",
              "      <td>0.636203</td>\n",
              "      <td>0.282354</td>\n",
              "      <td>0.515587</td>\n",
              "      <td>0</td>\n",
              "    </tr>\n",
              "    <tr>\n",
              "      <th>2</th>\n",
              "      <td>-0.116585</td>\n",
              "      <td>0.069915</td>\n",
              "      <td>0.068476</td>\n",
              "      <td>-0.783147</td>\n",
              "      <td>0.261718</td>\n",
              "      <td>0.439463</td>\n",
              "      <td>-0.081827</td>\n",
              "      <td>-0.888236</td>\n",
              "      <td>-0.123005</td>\n",
              "      <td>0.582939</td>\n",
              "      <td>0</td>\n",
              "    </tr>\n",
              "    <tr>\n",
              "      <th>3</th>\n",
              "      <td>0.031541</td>\n",
              "      <td>0.297600</td>\n",
              "      <td>-3.210528</td>\n",
              "      <td>-0.583590</td>\n",
              "      <td>-0.721442</td>\n",
              "      <td>-0.307984</td>\n",
              "      <td>0.710932</td>\n",
              "      <td>1.051693</td>\n",
              "      <td>0.594169</td>\n",
              "      <td>-0.533994</td>\n",
              "      <td>0</td>\n",
              "    </tr>\n",
              "    <tr>\n",
              "      <th>4</th>\n",
              "      <td>0.229043</td>\n",
              "      <td>0.807926</td>\n",
              "      <td>-0.052442</td>\n",
              "      <td>0.082634</td>\n",
              "      <td>0.261718</td>\n",
              "      <td>0.148790</td>\n",
              "      <td>0.635431</td>\n",
              "      <td>0.051062</td>\n",
              "      <td>0.032902</td>\n",
              "      <td>-0.086652</td>\n",
              "      <td>5</td>\n",
              "    </tr>\n",
              "  </tbody>\n",
              "</table>\n",
              "</div>"
            ],
            "text/plain": [
              "   intercolumnar_distance  upper_margin  ...     mr_is  class\n",
              "0                0.266074     -0.165620  ...  0.159345      0\n",
              "1                0.130292      0.870736  ...  0.515587      0\n",
              "2               -0.116585      0.069915  ...  0.582939      0\n",
              "3                0.031541      0.297600  ... -0.533994      0\n",
              "4                0.229043      0.807926  ... -0.086652      5\n",
              "\n",
              "[5 rows x 11 columns]"
            ]
          },
          "metadata": {
            "tags": []
          },
          "execution_count": 29
        }
      ]
    },
    {
      "cell_type": "code",
      "metadata": {
        "id": "uk2xljhSrdam",
        "colab_type": "code",
        "colab": {
          "base_uri": "https://localhost:8080/",
          "height": 224
        },
        "outputId": "c9830bd0-08c5-4af0-9522-29d4930f8f3b"
      },
      "source": [
        "Y = dataset['class']\n",
        "X = dataset.drop('class', axis=1)\n",
        "X.head()"
      ],
      "execution_count": 179,
      "outputs": [
        {
          "output_type": "execute_result",
          "data": {
            "text/html": [
              "<div>\n",
              "<style scoped>\n",
              "    .dataframe tbody tr th:only-of-type {\n",
              "        vertical-align: middle;\n",
              "    }\n",
              "\n",
              "    .dataframe tbody tr th {\n",
              "        vertical-align: top;\n",
              "    }\n",
              "\n",
              "    .dataframe thead th {\n",
              "        text-align: right;\n",
              "    }\n",
              "</style>\n",
              "<table border=\"1\" class=\"dataframe\">\n",
              "  <thead>\n",
              "    <tr style=\"text-align: right;\">\n",
              "      <th></th>\n",
              "      <th>intercolumnar_distance</th>\n",
              "      <th>upper_margin</th>\n",
              "      <th>lower_margin</th>\n",
              "      <th>exploitation</th>\n",
              "      <th>row_number</th>\n",
              "      <th>modular_ratio</th>\n",
              "      <th>interlinear_spacing</th>\n",
              "      <th>weight</th>\n",
              "      <th>peak_number</th>\n",
              "      <th>mr_is</th>\n",
              "    </tr>\n",
              "  </thead>\n",
              "  <tbody>\n",
              "    <tr>\n",
              "      <th>0</th>\n",
              "      <td>0.266074</td>\n",
              "      <td>-0.165620</td>\n",
              "      <td>0.320980</td>\n",
              "      <td>0.483299</td>\n",
              "      <td>0.172340</td>\n",
              "      <td>0.273364</td>\n",
              "      <td>0.371178</td>\n",
              "      <td>0.929823</td>\n",
              "      <td>0.251173</td>\n",
              "      <td>0.159345</td>\n",
              "    </tr>\n",
              "    <tr>\n",
              "      <th>1</th>\n",
              "      <td>0.130292</td>\n",
              "      <td>0.870736</td>\n",
              "      <td>-3.210528</td>\n",
              "      <td>0.062493</td>\n",
              "      <td>0.261718</td>\n",
              "      <td>1.436060</td>\n",
              "      <td>1.465940</td>\n",
              "      <td>0.636203</td>\n",
              "      <td>0.282354</td>\n",
              "      <td>0.515587</td>\n",
              "    </tr>\n",
              "    <tr>\n",
              "      <th>2</th>\n",
              "      <td>-0.116585</td>\n",
              "      <td>0.069915</td>\n",
              "      <td>0.068476</td>\n",
              "      <td>-0.783147</td>\n",
              "      <td>0.261718</td>\n",
              "      <td>0.439463</td>\n",
              "      <td>-0.081827</td>\n",
              "      <td>-0.888236</td>\n",
              "      <td>-0.123005</td>\n",
              "      <td>0.582939</td>\n",
              "    </tr>\n",
              "    <tr>\n",
              "      <th>3</th>\n",
              "      <td>0.031541</td>\n",
              "      <td>0.297600</td>\n",
              "      <td>-3.210528</td>\n",
              "      <td>-0.583590</td>\n",
              "      <td>-0.721442</td>\n",
              "      <td>-0.307984</td>\n",
              "      <td>0.710932</td>\n",
              "      <td>1.051693</td>\n",
              "      <td>0.594169</td>\n",
              "      <td>-0.533994</td>\n",
              "    </tr>\n",
              "    <tr>\n",
              "      <th>4</th>\n",
              "      <td>0.229043</td>\n",
              "      <td>0.807926</td>\n",
              "      <td>-0.052442</td>\n",
              "      <td>0.082634</td>\n",
              "      <td>0.261718</td>\n",
              "      <td>0.148790</td>\n",
              "      <td>0.635431</td>\n",
              "      <td>0.051062</td>\n",
              "      <td>0.032902</td>\n",
              "      <td>-0.086652</td>\n",
              "    </tr>\n",
              "  </tbody>\n",
              "</table>\n",
              "</div>"
            ],
            "text/plain": [
              "   intercolumnar_distance  upper_margin  ...  peak_number     mr_is\n",
              "0                0.266074     -0.165620  ...     0.251173  0.159345\n",
              "1                0.130292      0.870736  ...     0.282354  0.515587\n",
              "2               -0.116585      0.069915  ...    -0.123005  0.582939\n",
              "3                0.031541      0.297600  ...     0.594169 -0.533994\n",
              "4                0.229043      0.807926  ...     0.032902 -0.086652\n",
              "\n",
              "[5 rows x 10 columns]"
            ]
          },
          "metadata": {
            "tags": []
          },
          "execution_count": 179
        }
      ]
    },
    {
      "cell_type": "code",
      "metadata": {
        "id": "72prgTEVtY33",
        "colab_type": "code",
        "colab": {
          "base_uri": "https://localhost:8080/",
          "height": 224
        },
        "outputId": "3fc423fd-db39-407f-994f-2eb5cd0277e2"
      },
      "source": [
        "Yt = dataset_test['class']\n",
        "Xt = dataset_test.drop('class', axis=1)\n",
        "Xt.head()"
      ],
      "execution_count": 180,
      "outputs": [
        {
          "output_type": "execute_result",
          "data": {
            "text/html": [
              "<div>\n",
              "<style scoped>\n",
              "    .dataframe tbody tr th:only-of-type {\n",
              "        vertical-align: middle;\n",
              "    }\n",
              "\n",
              "    .dataframe tbody tr th {\n",
              "        vertical-align: top;\n",
              "    }\n",
              "\n",
              "    .dataframe thead th {\n",
              "        text-align: right;\n",
              "    }\n",
              "</style>\n",
              "<table border=\"1\" class=\"dataframe\">\n",
              "  <thead>\n",
              "    <tr style=\"text-align: right;\">\n",
              "      <th></th>\n",
              "      <th>intercolumnar_distance</th>\n",
              "      <th>upper_margin</th>\n",
              "      <th>lower_margin</th>\n",
              "      <th>exploitation</th>\n",
              "      <th>row_number</th>\n",
              "      <th>modular_ratio</th>\n",
              "      <th>interlinear_spacing</th>\n",
              "      <th>weight</th>\n",
              "      <th>peak_number</th>\n",
              "      <th>mr_is</th>\n",
              "    </tr>\n",
              "  </thead>\n",
              "  <tbody>\n",
              "    <tr>\n",
              "      <th>0</th>\n",
              "      <td>-3.498799</td>\n",
              "      <td>0.250492</td>\n",
              "      <td>0.232070</td>\n",
              "      <td>1.224178</td>\n",
              "      <td>-4.922215</td>\n",
              "      <td>1.145386</td>\n",
              "      <td>0.182426</td>\n",
              "      <td>-0.165983</td>\n",
              "      <td>-0.123005</td>\n",
              "      <td>1.087144</td>\n",
              "    </tr>\n",
              "    <tr>\n",
              "      <th>1</th>\n",
              "      <td>0.204355</td>\n",
              "      <td>-0.354049</td>\n",
              "      <td>0.320980</td>\n",
              "      <td>0.410166</td>\n",
              "      <td>-0.989576</td>\n",
              "      <td>-2.218127</td>\n",
              "      <td>0.220177</td>\n",
              "      <td>0.181844</td>\n",
              "      <td>2.090879</td>\n",
              "      <td>-2.009758</td>\n",
              "    </tr>\n",
              "    <tr>\n",
              "      <th>2</th>\n",
              "      <td>0.759828</td>\n",
              "      <td>-1.304042</td>\n",
              "      <td>-0.023991</td>\n",
              "      <td>-0.973663</td>\n",
              "      <td>-0.006417</td>\n",
              "      <td>-0.349509</td>\n",
              "      <td>-0.421580</td>\n",
              "      <td>-0.450127</td>\n",
              "      <td>0.469443</td>\n",
              "      <td>0.060952</td>\n",
              "    </tr>\n",
              "    <tr>\n",
              "      <th>3</th>\n",
              "      <td>-0.005490</td>\n",
              "      <td>0.360409</td>\n",
              "      <td>0.281860</td>\n",
              "      <td>-0.213479</td>\n",
              "      <td>-1.168333</td>\n",
              "      <td>-1.013906</td>\n",
              "      <td>-0.346080</td>\n",
              "      <td>1.176165</td>\n",
              "      <td>0.968347</td>\n",
              "      <td>-0.627999</td>\n",
              "    </tr>\n",
              "    <tr>\n",
              "      <th>4</th>\n",
              "      <td>0.080916</td>\n",
              "      <td>0.101320</td>\n",
              "      <td>0.104040</td>\n",
              "      <td>0.140490</td>\n",
              "      <td>0.261718</td>\n",
              "      <td>0.480988</td>\n",
              "      <td>0.710932</td>\n",
              "      <td>-0.253430</td>\n",
              "      <td>-0.497183</td>\n",
              "      <td>0.155681</td>\n",
              "    </tr>\n",
              "  </tbody>\n",
              "</table>\n",
              "</div>"
            ],
            "text/plain": [
              "   intercolumnar_distance  upper_margin  ...  peak_number     mr_is\n",
              "0               -3.498799      0.250492  ...    -0.123005  1.087144\n",
              "1                0.204355     -0.354049  ...     2.090879 -2.009758\n",
              "2                0.759828     -1.304042  ...     0.469443  0.060952\n",
              "3               -0.005490      0.360409  ...     0.968347 -0.627999\n",
              "4                0.080916      0.101320  ...    -0.497183  0.155681\n",
              "\n",
              "[5 rows x 10 columns]"
            ]
          },
          "metadata": {
            "tags": []
          },
          "execution_count": 180
        }
      ]
    },
    {
      "cell_type": "markdown",
      "metadata": {
        "id": "b558tq8I-1mU",
        "colab_type": "text"
      },
      "source": [
        "Ahora vamos a probar los modelos sin tunearlos"
      ]
    },
    {
      "cell_type": "markdown",
      "metadata": {
        "id": "POJRvjNhtbRF",
        "colab_type": "text"
      },
      "source": [
        "##Decision Tree"
      ]
    },
    {
      "cell_type": "code",
      "metadata": {
        "id": "_Mj8C8rYsi3w",
        "colab_type": "code",
        "colab": {
          "base_uri": "https://localhost:8080/",
          "height": 125
        },
        "outputId": "a4a23a4d-948b-474c-c36c-4847083051de"
      },
      "source": [
        "dt = DecisionTreeClassifier()\n",
        "dt.fit(X, Y)"
      ],
      "execution_count": 181,
      "outputs": [
        {
          "output_type": "execute_result",
          "data": {
            "text/plain": [
              "DecisionTreeClassifier(ccp_alpha=0.0, class_weight=None, criterion='gini',\n",
              "                       max_depth=None, max_features=None, max_leaf_nodes=None,\n",
              "                       min_impurity_decrease=0.0, min_impurity_split=None,\n",
              "                       min_samples_leaf=1, min_samples_split=2,\n",
              "                       min_weight_fraction_leaf=0.0, presort='deprecated',\n",
              "                       random_state=None, splitter='best')"
            ]
          },
          "metadata": {
            "tags": []
          },
          "execution_count": 181
        }
      ]
    },
    {
      "cell_type": "code",
      "metadata": {
        "id": "mwU3DHdutOKT",
        "colab_type": "code",
        "colab": {
          "base_uri": "https://localhost:8080/",
          "height": 35
        },
        "outputId": "88491b41-7574-43a8-877b-37be45836f20"
      },
      "source": [
        "f1_score(Yt, dt.predict(Xt), average='weighted')"
      ],
      "execution_count": 182,
      "outputs": [
        {
          "output_type": "execute_result",
          "data": {
            "text/plain": [
              "0.9691059306983082"
            ]
          },
          "metadata": {
            "tags": []
          },
          "execution_count": 182
        }
      ]
    },
    {
      "cell_type": "markdown",
      "metadata": {
        "id": "v5R9WwtDtemd",
        "colab_type": "text"
      },
      "source": [
        "##Random Forest"
      ]
    },
    {
      "cell_type": "code",
      "metadata": {
        "id": "ThNghRCdthLR",
        "colab_type": "code",
        "colab": {
          "base_uri": "https://localhost:8080/",
          "height": 161
        },
        "outputId": "30efcc62-a750-4643-aa36-7215ee655715"
      },
      "source": [
        "rf = RandomForestClassifier(40, n_jobs=-1, oob_score=True)\n",
        "rf.fit(X, Y)"
      ],
      "execution_count": 183,
      "outputs": [
        {
          "output_type": "execute_result",
          "data": {
            "text/plain": [
              "RandomForestClassifier(bootstrap=True, ccp_alpha=0.0, class_weight=None,\n",
              "                       criterion='gini', max_depth=None, max_features='auto',\n",
              "                       max_leaf_nodes=None, max_samples=None,\n",
              "                       min_impurity_decrease=0.0, min_impurity_split=None,\n",
              "                       min_samples_leaf=1, min_samples_split=2,\n",
              "                       min_weight_fraction_leaf=0.0, n_estimators=40, n_jobs=-1,\n",
              "                       oob_score=True, random_state=None, verbose=0,\n",
              "                       warm_start=False)"
            ]
          },
          "metadata": {
            "tags": []
          },
          "execution_count": 183
        }
      ]
    },
    {
      "cell_type": "code",
      "metadata": {
        "id": "tP8HcMKduOn2",
        "colab_type": "code",
        "colab": {
          "base_uri": "https://localhost:8080/",
          "height": 35
        },
        "outputId": "56e93c02-e35e-4d7f-88e8-0bc61d33c4d0"
      },
      "source": [
        "f1_score(Yt, rf.predict(Xt), average='weighted')"
      ],
      "execution_count": 184,
      "outputs": [
        {
          "output_type": "execute_result",
          "data": {
            "text/plain": [
              "0.9836990551679825"
            ]
          },
          "metadata": {
            "tags": []
          },
          "execution_count": 184
        }
      ]
    },
    {
      "cell_type": "markdown",
      "metadata": {
        "id": "U3Z8EBmBusht",
        "colab_type": "text"
      },
      "source": [
        "##Clasificador K-Nearest Neighbor"
      ]
    },
    {
      "cell_type": "code",
      "metadata": {
        "id": "m8D9-CaXur1X",
        "colab_type": "code",
        "colab": {
          "base_uri": "https://localhost:8080/",
          "height": 71
        },
        "outputId": "ec1d7150-eef3-4e26-d012-ad8238c138ff"
      },
      "source": [
        "n_neighbors = 4\n",
        "\n",
        "knn = KNeighborsClassifier(n_neighbors)\n",
        "knn.fit(X, Y)"
      ],
      "execution_count": 185,
      "outputs": [
        {
          "output_type": "execute_result",
          "data": {
            "text/plain": [
              "KNeighborsClassifier(algorithm='auto', leaf_size=30, metric='minkowski',\n",
              "                     metric_params=None, n_jobs=None, n_neighbors=4, p=2,\n",
              "                     weights='uniform')"
            ]
          },
          "metadata": {
            "tags": []
          },
          "execution_count": 185
        }
      ]
    },
    {
      "cell_type": "code",
      "metadata": {
        "id": "4pxIn5Mwu3dp",
        "colab_type": "code",
        "colab": {
          "base_uri": "https://localhost:8080/",
          "height": 35
        },
        "outputId": "94fb3b45-6873-4699-eb87-02ad7f198f6e"
      },
      "source": [
        "f1_score(Yt, knn.predict(Xt), average='weighted')"
      ],
      "execution_count": 186,
      "outputs": [
        {
          "output_type": "execute_result",
          "data": {
            "text/plain": [
              "0.7460663076554264"
            ]
          },
          "metadata": {
            "tags": []
          },
          "execution_count": 186
        }
      ]
    },
    {
      "cell_type": "markdown",
      "metadata": {
        "id": "J4CQIJzAjjhB",
        "colab_type": "text"
      },
      "source": [
        "##Neural Networks"
      ]
    },
    {
      "cell_type": "code",
      "metadata": {
        "id": "6knijcgew4L1",
        "colab_type": "code",
        "colab": {}
      },
      "source": [
        "from tensorflow.python.keras.models import Sequential\n",
        "from tensorflow.python.keras.layers import Dense\n",
        "from tensorflow.keras.optimizers import SGD\n",
        "import tensorflow.python.keras, math\n",
        "from sklearn.model_selection import train_test_split"
      ],
      "execution_count": 187,
      "outputs": []
    },
    {
      "cell_type": "code",
      "metadata": {
        "id": "gw7tngrUkUmf",
        "colab_type": "code",
        "colab": {
          "base_uri": "https://localhost:8080/",
          "height": 197
        },
        "outputId": "1946dbc8-2dc8-4b54-c802-e73695f5daf4"
      },
      "source": [
        "lr = 0.01\n",
        "bs = 256\n",
        "epochs = 30\n",
        "x_train, x_val, y_train, y_val = train_test_split(X, Y, test_size=0.2, random_state=42)\n",
        "\n",
        "nn = Sequential([\n",
        "    Dense(12, activation='softmax', input_shape=(10,))\n",
        "])\n",
        "\n",
        "nn.compile(optimizer=SGD(lr), loss='sparse_categorical_crossentropy', metrics=['accuracy'])\n",
        "nn.summary()"
      ],
      "execution_count": 188,
      "outputs": [
        {
          "output_type": "stream",
          "text": [
            "Model: \"sequential_14\"\n",
            "_________________________________________________________________\n",
            "Layer (type)                 Output Shape              Param #   \n",
            "=================================================================\n",
            "dense_24 (Dense)             (None, 12)                132       \n",
            "=================================================================\n",
            "Total params: 132\n",
            "Trainable params: 132\n",
            "Non-trainable params: 0\n",
            "_________________________________________________________________\n"
          ],
          "name": "stdout"
        }
      ]
    },
    {
      "cell_type": "code",
      "metadata": {
        "id": "uiswejYflDwF",
        "colab_type": "code",
        "colab": {
          "base_uri": "https://localhost:8080/",
          "height": 1000
        },
        "outputId": "b5eb4ac5-523b-4223-c981-5c5e68301857"
      },
      "source": [
        "nn.fit(x_train, y_train, batch_size=bs, epochs=epochs, validation_data=(x_val, y_val))"
      ],
      "execution_count": 189,
      "outputs": [
        {
          "output_type": "stream",
          "text": [
            "Epoch 1/30\n",
            "33/33 [==============================] - 0s 5ms/step - loss: 2.8606 - accuracy: 0.1308 - val_loss: 2.8011 - val_accuracy: 0.1371\n",
            "Epoch 2/30\n",
            "33/33 [==============================] - 0s 3ms/step - loss: 2.7655 - accuracy: 0.1504 - val_loss: 2.7127 - val_accuracy: 0.1548\n",
            "Epoch 3/30\n",
            "33/33 [==============================] - 0s 3ms/step - loss: 2.6760 - accuracy: 0.1738 - val_loss: 2.6297 - val_accuracy: 0.1745\n",
            "Epoch 4/30\n",
            "33/33 [==============================] - 0s 3ms/step - loss: 2.5922 - accuracy: 0.1955 - val_loss: 2.5518 - val_accuracy: 0.1898\n",
            "Epoch 5/30\n",
            "33/33 [==============================] - 0s 3ms/step - loss: 2.5129 - accuracy: 0.2186 - val_loss: 2.4792 - val_accuracy: 0.2124\n",
            "Epoch 6/30\n",
            "33/33 [==============================] - 0s 3ms/step - loss: 2.4400 - accuracy: 0.2402 - val_loss: 2.4119 - val_accuracy: 0.2359\n",
            "Epoch 7/30\n",
            "33/33 [==============================] - 0s 3ms/step - loss: 2.3735 - accuracy: 0.2605 - val_loss: 2.3493 - val_accuracy: 0.2570\n",
            "Epoch 8/30\n",
            "33/33 [==============================] - 0s 3ms/step - loss: 2.3116 - accuracy: 0.2806 - val_loss: 2.2910 - val_accuracy: 0.2804\n",
            "Epoch 9/30\n",
            "33/33 [==============================] - 0s 3ms/step - loss: 2.2544 - accuracy: 0.3002 - val_loss: 2.2369 - val_accuracy: 0.3011\n",
            "Epoch 10/30\n",
            "33/33 [==============================] - 0s 3ms/step - loss: 2.2013 - accuracy: 0.3243 - val_loss: 2.1869 - val_accuracy: 0.3245\n",
            "Epoch 11/30\n",
            "33/33 [==============================] - 0s 3ms/step - loss: 2.1523 - accuracy: 0.3482 - val_loss: 2.1405 - val_accuracy: 0.3428\n",
            "Epoch 12/30\n",
            "33/33 [==============================] - 0s 3ms/step - loss: 2.1071 - accuracy: 0.3704 - val_loss: 2.0976 - val_accuracy: 0.3634\n",
            "Epoch 13/30\n",
            "33/33 [==============================] - 0s 3ms/step - loss: 2.0655 - accuracy: 0.3913 - val_loss: 2.0580 - val_accuracy: 0.3821\n",
            "Epoch 14/30\n",
            "33/33 [==============================] - 0s 3ms/step - loss: 2.0271 - accuracy: 0.4084 - val_loss: 2.0215 - val_accuracy: 0.3988\n",
            "Epoch 15/30\n",
            "33/33 [==============================] - 0s 3ms/step - loss: 1.9921 - accuracy: 0.4201 - val_loss: 1.9879 - val_accuracy: 0.4175\n",
            "Epoch 16/30\n",
            "33/33 [==============================] - 0s 3ms/step - loss: 1.9596 - accuracy: 0.4308 - val_loss: 1.9568 - val_accuracy: 0.4310\n",
            "Epoch 17/30\n",
            "33/33 [==============================] - 0s 3ms/step - loss: 1.9296 - accuracy: 0.4400 - val_loss: 1.9281 - val_accuracy: 0.4353\n",
            "Epoch 18/30\n",
            "33/33 [==============================] - 0s 3ms/step - loss: 1.9023 - accuracy: 0.4505 - val_loss: 1.9015 - val_accuracy: 0.4463\n",
            "Epoch 19/30\n",
            "33/33 [==============================] - 0s 3ms/step - loss: 1.8770 - accuracy: 0.4594 - val_loss: 1.8772 - val_accuracy: 0.4540\n",
            "Epoch 20/30\n",
            "33/33 [==============================] - 0s 3ms/step - loss: 1.8535 - accuracy: 0.4664 - val_loss: 1.8543 - val_accuracy: 0.4602\n",
            "Epoch 21/30\n",
            "33/33 [==============================] - 0s 3ms/step - loss: 1.8319 - accuracy: 0.4714 - val_loss: 1.8336 - val_accuracy: 0.4650\n",
            "Epoch 22/30\n",
            "33/33 [==============================] - 0s 3ms/step - loss: 1.8123 - accuracy: 0.4767 - val_loss: 1.8139 - val_accuracy: 0.4684\n",
            "Epoch 23/30\n",
            "33/33 [==============================] - 0s 3ms/step - loss: 1.7933 - accuracy: 0.4811 - val_loss: 1.7955 - val_accuracy: 0.4712\n",
            "Epoch 24/30\n",
            "33/33 [==============================] - 0s 3ms/step - loss: 1.7758 - accuracy: 0.4854 - val_loss: 1.7785 - val_accuracy: 0.4760\n",
            "Epoch 25/30\n",
            "33/33 [==============================] - 0s 3ms/step - loss: 1.7597 - accuracy: 0.4880 - val_loss: 1.7626 - val_accuracy: 0.4784\n",
            "Epoch 26/30\n",
            "33/33 [==============================] - 0s 3ms/step - loss: 1.7447 - accuracy: 0.4883 - val_loss: 1.7480 - val_accuracy: 0.4789\n",
            "Epoch 27/30\n",
            "33/33 [==============================] - 0s 3ms/step - loss: 1.7307 - accuracy: 0.4904 - val_loss: 1.7339 - val_accuracy: 0.4789\n",
            "Epoch 28/30\n",
            "33/33 [==============================] - 0s 3ms/step - loss: 1.7173 - accuracy: 0.4921 - val_loss: 1.7208 - val_accuracy: 0.4799\n",
            "Epoch 29/30\n",
            "33/33 [==============================] - 0s 3ms/step - loss: 1.7054 - accuracy: 0.4928 - val_loss: 1.7088 - val_accuracy: 0.4823\n",
            "Epoch 30/30\n",
            "33/33 [==============================] - 0s 3ms/step - loss: 1.6936 - accuracy: 0.4944 - val_loss: 1.6975 - val_accuracy: 0.4827\n"
          ],
          "name": "stdout"
        },
        {
          "output_type": "execute_result",
          "data": {
            "text/plain": [
              "<tensorflow.python.keras.callbacks.History at 0x7f8d772ae5f8>"
            ]
          },
          "metadata": {
            "tags": []
          },
          "execution_count": 189
        }
      ]
    },
    {
      "cell_type": "code",
      "metadata": {
        "id": "o-E222IWlNtH",
        "colab_type": "code",
        "colab": {
          "base_uri": "https://localhost:8080/",
          "height": 35
        },
        "outputId": "c23c5b4c-2901-43b4-c110-739c23b860ae"
      },
      "source": [
        "xt_predict = np.argmax(nn.predict(Xt), axis=1)\n",
        "f1_score(Yt, xt_predict, average='weighted')"
      ],
      "execution_count": 222,
      "outputs": [
        {
          "output_type": "execute_result",
          "data": {
            "text/plain": [
              "0.3656546586309501"
            ]
          },
          "metadata": {
            "tags": []
          },
          "execution_count": 222
        }
      ]
    },
    {
      "cell_type": "markdown",
      "metadata": {
        "id": "BrG1ghwNxxxU",
        "colab_type": "text"
      },
      "source": [
        "##Seleccion de Caracteristicas"
      ]
    },
    {
      "cell_type": "markdown",
      "metadata": {
        "id": "TyhXOrso044O",
        "colab_type": "text"
      },
      "source": [
        "###Por Filtrado"
      ]
    },
    {
      "cell_type": "code",
      "metadata": {
        "id": "4_OJjc93x6wf",
        "colab_type": "code",
        "colab": {}
      },
      "source": [
        "from sklearn.feature_selection import SelectKBest\n",
        "from sklearn.feature_selection import f_classif, mutual_info_classif"
      ],
      "execution_count": 192,
      "outputs": []
    },
    {
      "cell_type": "code",
      "metadata": {
        "id": "75BIM1pGzFGN",
        "colab_type": "code",
        "colab": {}
      },
      "source": [
        "filtrado = SelectKBest(mutual_info_classif, k=5).fit(X, Y)"
      ],
      "execution_count": 193,
      "outputs": []
    },
    {
      "cell_type": "code",
      "metadata": {
        "id": "yQGgz6WC0fpR",
        "colab_type": "code",
        "colab": {
          "base_uri": "https://localhost:8080/",
          "height": 53
        },
        "outputId": "80143f52-a8bf-496c-b7d2-4849e58b7df4"
      },
      "source": [
        "filtrado.scores_"
      ],
      "execution_count": 194,
      "outputs": [
        {
          "output_type": "execute_result",
          "data": {
            "text/plain": [
              "array([0.81105729, 0.87362188, 0.9442109 , 1.81754017, 0.50651796,\n",
              "       0.10027254, 0.29893599, 0.02695265, 0.29774187, 0.08390339])"
            ]
          },
          "metadata": {
            "tags": []
          },
          "execution_count": 194
        }
      ]
    },
    {
      "cell_type": "code",
      "metadata": {
        "id": "oLcABiQ_0kBQ",
        "colab_type": "code",
        "colab": {
          "base_uri": "https://localhost:8080/",
          "height": 107
        },
        "outputId": "bb07bcba-d809-40fc-bb60-052197bc3d65"
      },
      "source": [
        "X_new = filtrado.transform(X)\n",
        "X_new[:5]"
      ],
      "execution_count": 195,
      "outputs": [
        {
          "output_type": "execute_result",
          "data": {
            "text/plain": [
              "array([[ 0.266074, -0.16562 ,  0.32098 ,  0.483299,  0.17234 ],\n",
              "       [ 0.130292,  0.870736, -3.210528,  0.062493,  0.261718],\n",
              "       [-0.116585,  0.069915,  0.068476, -0.783147,  0.261718],\n",
              "       [ 0.031541,  0.2976  , -3.210528, -0.58359 , -0.721442],\n",
              "       [ 0.229043,  0.807926, -0.052442,  0.082634,  0.261718]])"
            ]
          },
          "metadata": {
            "tags": []
          },
          "execution_count": 195
        }
      ]
    },
    {
      "cell_type": "code",
      "metadata": {
        "id": "PoAOtaDs5LpA",
        "colab_type": "code",
        "colab": {
          "base_uri": "https://localhost:8080/",
          "height": 224
        },
        "outputId": "9ebb9697-3273-4ab5-a1bf-028b13ad507e"
      },
      "source": [
        "Xt.head()"
      ],
      "execution_count": 207,
      "outputs": [
        {
          "output_type": "execute_result",
          "data": {
            "text/html": [
              "<div>\n",
              "<style scoped>\n",
              "    .dataframe tbody tr th:only-of-type {\n",
              "        vertical-align: middle;\n",
              "    }\n",
              "\n",
              "    .dataframe tbody tr th {\n",
              "        vertical-align: top;\n",
              "    }\n",
              "\n",
              "    .dataframe thead th {\n",
              "        text-align: right;\n",
              "    }\n",
              "</style>\n",
              "<table border=\"1\" class=\"dataframe\">\n",
              "  <thead>\n",
              "    <tr style=\"text-align: right;\">\n",
              "      <th></th>\n",
              "      <th>intercolumnar_distance</th>\n",
              "      <th>upper_margin</th>\n",
              "      <th>lower_margin</th>\n",
              "      <th>exploitation</th>\n",
              "      <th>row_number</th>\n",
              "      <th>modular_ratio</th>\n",
              "      <th>interlinear_spacing</th>\n",
              "      <th>weight</th>\n",
              "      <th>peak_number</th>\n",
              "      <th>mr_is</th>\n",
              "    </tr>\n",
              "  </thead>\n",
              "  <tbody>\n",
              "    <tr>\n",
              "      <th>0</th>\n",
              "      <td>-3.498799</td>\n",
              "      <td>0.250492</td>\n",
              "      <td>0.232070</td>\n",
              "      <td>1.224178</td>\n",
              "      <td>-4.922215</td>\n",
              "      <td>1.145386</td>\n",
              "      <td>0.182426</td>\n",
              "      <td>-0.165983</td>\n",
              "      <td>-0.123005</td>\n",
              "      <td>1.087144</td>\n",
              "    </tr>\n",
              "    <tr>\n",
              "      <th>1</th>\n",
              "      <td>0.204355</td>\n",
              "      <td>-0.354049</td>\n",
              "      <td>0.320980</td>\n",
              "      <td>0.410166</td>\n",
              "      <td>-0.989576</td>\n",
              "      <td>-2.218127</td>\n",
              "      <td>0.220177</td>\n",
              "      <td>0.181844</td>\n",
              "      <td>2.090879</td>\n",
              "      <td>-2.009758</td>\n",
              "    </tr>\n",
              "    <tr>\n",
              "      <th>2</th>\n",
              "      <td>0.759828</td>\n",
              "      <td>-1.304042</td>\n",
              "      <td>-0.023991</td>\n",
              "      <td>-0.973663</td>\n",
              "      <td>-0.006417</td>\n",
              "      <td>-0.349509</td>\n",
              "      <td>-0.421580</td>\n",
              "      <td>-0.450127</td>\n",
              "      <td>0.469443</td>\n",
              "      <td>0.060952</td>\n",
              "    </tr>\n",
              "    <tr>\n",
              "      <th>3</th>\n",
              "      <td>-0.005490</td>\n",
              "      <td>0.360409</td>\n",
              "      <td>0.281860</td>\n",
              "      <td>-0.213479</td>\n",
              "      <td>-1.168333</td>\n",
              "      <td>-1.013906</td>\n",
              "      <td>-0.346080</td>\n",
              "      <td>1.176165</td>\n",
              "      <td>0.968347</td>\n",
              "      <td>-0.627999</td>\n",
              "    </tr>\n",
              "    <tr>\n",
              "      <th>4</th>\n",
              "      <td>0.080916</td>\n",
              "      <td>0.101320</td>\n",
              "      <td>0.104040</td>\n",
              "      <td>0.140490</td>\n",
              "      <td>0.261718</td>\n",
              "      <td>0.480988</td>\n",
              "      <td>0.710932</td>\n",
              "      <td>-0.253430</td>\n",
              "      <td>-0.497183</td>\n",
              "      <td>0.155681</td>\n",
              "    </tr>\n",
              "  </tbody>\n",
              "</table>\n",
              "</div>"
            ],
            "text/plain": [
              "   intercolumnar_distance  upper_margin  ...  peak_number     mr_is\n",
              "0               -3.498799      0.250492  ...    -0.123005  1.087144\n",
              "1                0.204355     -0.354049  ...     2.090879 -2.009758\n",
              "2                0.759828     -1.304042  ...     0.469443  0.060952\n",
              "3               -0.005490      0.360409  ...     0.968347 -0.627999\n",
              "4                0.080916      0.101320  ...    -0.497183  0.155681\n",
              "\n",
              "[5 rows x 10 columns]"
            ]
          },
          "metadata": {
            "tags": []
          },
          "execution_count": 207
        }
      ]
    },
    {
      "cell_type": "markdown",
      "metadata": {
        "id": "0qyZoxc-1qhF",
        "colab_type": "text"
      },
      "source": [
        "Implementamos un bucle por cada modelo y vemos los resutlados de usar las k caracteristicas"
      ]
    },
    {
      "cell_type": "markdown",
      "metadata": {
        "id": "XUzgrXBO0_ST",
        "colab_type": "text"
      },
      "source": [
        "####Decision Tree"
      ]
    },
    {
      "cell_type": "code",
      "metadata": {
        "id": "ZVpuN2Dz025m",
        "colab_type": "code",
        "colab": {
          "base_uri": "https://localhost:8080/",
          "height": 215
        },
        "outputId": "2101cd95-6cbc-484f-aa86-8ad6116de9ea"
      },
      "source": [
        "max = 0\n",
        "features = 0\n",
        "for n in range(10):\n",
        "  filter = SelectKBest(mutual_info_classif, k=(n+1)).fit(X, Y)\n",
        "  X_new = filter.transform(X)\n",
        "  Xt_new = filter.transform(Xt)\n",
        "  dt2 = DecisionTreeClassifier()\n",
        "  dt2.fit(X_new, Y)\n",
        "  acc = dt2.score(Xt_new, Yt)\n",
        "  f1 = f1_score(Yt, dt2.predict(Xt_new), average='weighted')\n",
        "  print('Score usando ', (n+1), 'caracteristicas F1:',  f1, ' acurracy: ', acc )\n",
        "  if f1 > max:\n",
        "      max = f1\n",
        "      features = n+1\n",
        "print('Mejor Score usando ', features, 'caracteristicas F1:',  max)"
      ],
      "execution_count": 217,
      "outputs": [
        {
          "output_type": "stream",
          "text": [
            "Score usando  1 caracteristicas F1: 0.995600072381871  acurracy:  0.9955926032384785\n",
            "Score usando  2 caracteristicas F1: 0.9989640727934304  acurracy:  0.9989460572961579\n",
            "Score usando  3 caracteristicas F1: 0.9994426717770257  acurracy:  0.9994251221615407\n",
            "Score usando  4 caracteristicas F1: 0.9994426717770257  acurracy:  0.9994251221615407\n",
            "Score usando  5 caracteristicas F1: 0.9994426717770257  acurracy:  0.9994251221615407\n",
            "Score usando  6 caracteristicas F1: 0.9886105118230989  acurracy:  0.98859825620389\n",
            "Score usando  7 caracteristicas F1: 0.9855349206489854  acurracy:  0.9855322410654402\n",
            "Score usando  8 caracteristicas F1: 0.974561346682597  acurracy:  0.9745137491616365\n",
            "Score usando  9 caracteristicas F1: 0.9737596544575153  acurracy:  0.9737472453770241\n",
            "Score usando  10 caracteristicas F1: 0.9701469042128404  acurracy:  0.970106352400115\n",
            "Mejor Score usando  3 caracteristicas F1: 0.9994426717770257\n"
          ],
          "name": "stdout"
        }
      ]
    },
    {
      "cell_type": "markdown",
      "metadata": {
        "id": "4RH2Zy-E26ju",
        "colab_type": "text"
      },
      "source": [
        "####Random Forest"
      ]
    },
    {
      "cell_type": "code",
      "metadata": {
        "id": "-bOZArmj20NU",
        "colab_type": "code",
        "colab": {
          "base_uri": "https://localhost:8080/",
          "height": 215
        },
        "outputId": "e9536e83-f404-4f56-8380-0075cb7cc389"
      },
      "source": [
        "max = 0\n",
        "features = 0\n",
        "for n in range(10):\n",
        "  filter = SelectKBest(mutual_info_classif, k=(n+1)).fit(X, Y)\n",
        "  X_new = filter.transform(X)\n",
        "  Xt_new = filter.transform(Xt)\n",
        "  rt2 = RandomForestClassifier(40, n_jobs=-1, oob_score=True)\n",
        "  rt2.fit(X_new, Y)\n",
        "  acc = rt2.score(Xt_new, Yt)\n",
        "  f1 = f1_score(Yt, rt2.predict(Xt_new), average='weighted')\n",
        "  print('Score usando ', (n+1), 'caracteristicas F1:',  f1, ' acurracy: ', acc )\n",
        "  if f1 > max:\n",
        "      max = f1\n",
        "      features = n+1\n",
        "print('Mejor Score usando ', features, 'caracteristicas F1:',  max)"
      ],
      "execution_count": 220,
      "outputs": [
        {
          "output_type": "stream",
          "text": [
            "Score usando  1 caracteristicas F1: 0.9956251275246324  acurracy:  0.9955926032384785\n",
            "Score usando  2 caracteristicas F1: 0.9989640727934304  acurracy:  0.9989460572961579\n",
            "Score usando  3 caracteristicas F1: 0.9994426717770257  acurracy:  0.9994251221615407\n",
            "Score usando  4 caracteristicas F1: 0.9994426717770257  acurracy:  0.9994251221615407\n",
            "Score usando  5 caracteristicas F1: 0.9994426717770257  acurracy:  0.9994251221615407\n",
            "Score usando  6 caracteristicas F1: 0.9956963382340839  acurracy:  0.995688416211555\n",
            "Score usando  7 caracteristicas F1: 0.9950206681876904  acurracy:  0.9950177254000192\n",
            "Score usando  8 caracteristicas F1: 0.988871497177574  acurracy:  0.9888856951231196\n",
            "Score usando  9 caracteristicas F1: 0.9868541212116453  acurracy:  0.986873622688512\n",
            "Score usando  10 caracteristicas F1: 0.9809057290424358  acurracy:  0.9809332183577656\n",
            "Mejor Score usando  3 caracteristicas F1: 0.9994426717770257\n"
          ],
          "name": "stdout"
        }
      ]
    },
    {
      "cell_type": "markdown",
      "metadata": {
        "id": "omEtZ7oS34fu",
        "colab_type": "text"
      },
      "source": [
        "####KNN"
      ]
    },
    {
      "cell_type": "code",
      "metadata": {
        "id": "CAO5pHJL37eF",
        "colab_type": "code",
        "colab": {
          "base_uri": "https://localhost:8080/",
          "height": 215
        },
        "outputId": "8309fd81-771f-4123-e4f5-a270e3167c37"
      },
      "source": [
        "max = 0\n",
        "features = 0\n",
        "for n in range(10):\n",
        "  filter = SelectKBest(mutual_info_classif, k=(n+1)).fit(X, Y)\n",
        "  X_new = filter.transform(X)\n",
        "  Xt_new = filter.transform(Xt)\n",
        "  n_neighbors = 4\n",
        "  knn2 = KNeighborsClassifier(n_neighbors)\n",
        "  knn2.fit(X_new, Y)\n",
        "  acc = knn2.score(Xt_new, Yt)\n",
        "  f1 = f1_score(Yt, knn2.predict(Xt_new), average='weighted')\n",
        "  print('Score usando ', (n+1), 'caracteristicas F1:',  f1, ' acurracy: ', acc )\n",
        "  if f1 > max:\n",
        "      max = f1\n",
        "      features = n+1\n",
        "print('Mejor Score usando ', features, 'caracteristicas F1:',  max)\n"
      ],
      "execution_count": 221,
      "outputs": [
        {
          "output_type": "stream",
          "text": [
            "Score usando  1 caracteristicas F1: 0.9951473769678082  acurracy:  0.9954009772923254\n",
            "Score usando  2 caracteristicas F1: 0.9983245112969483  acurracy:  0.9985628054038517\n",
            "Score usando  3 caracteristicas F1: 0.9987117932315139  acurracy:  0.9989460572961579\n",
            "Score usando  4 caracteristicas F1: 0.9987117932315139  acurracy:  0.9989460572961579\n",
            "Score usando  5 caracteristicas F1: 0.9987117932315139  acurracy:  0.9989460572961579\n",
            "Score usando  6 caracteristicas F1: 0.9062098816720439  acurracy:  0.9067739771965124\n",
            "Score usando  7 caracteristicas F1: 0.8305037368294843  acurracy:  0.833093800900642\n",
            "Score usando  8 caracteristicas F1: 0.7732201394396423  acurracy:  0.7783845932739293\n",
            "Score usando  9 caracteristicas F1: 0.7540992662801503  acurracy:  0.7607550062278432\n",
            "Score usando  10 caracteristicas F1: 0.7460663076554264  acurracy:  0.7525150905432596\n",
            "Mejor Score usando  3 caracteristicas F1: 0.9987117932315139\n"
          ],
          "name": "stdout"
        }
      ]
    },
    {
      "cell_type": "markdown",
      "metadata": {
        "id": "r0N79nw79tDF",
        "colab_type": "text"
      },
      "source": [
        "####NN"
      ]
    },
    {
      "cell_type": "code",
      "metadata": {
        "id": "_IeulMOT9qvp",
        "colab_type": "code",
        "colab": {
          "base_uri": "https://localhost:8080/",
          "height": 215
        },
        "outputId": "c0e100cb-2474-4468-fbd1-d5b9ac21a0dd"
      },
      "source": [
        "max = 0\n",
        "features = 0\n",
        "lr = 0.01\n",
        "bs = 256\n",
        "epochs = 30\n",
        "for n in range(10):\n",
        "  filter = SelectKBest(mutual_info_classif, k=(n+1)).fit(X, Y)\n",
        "  X_new = filter.transform(X)\n",
        "  Xt_new = filter.transform(Xt)\n",
        "  x_train, x_val, y_train, y_val = train_test_split(X_new, Y, test_size=0.2, random_state=42)\n",
        "\n",
        "  nn2 = Sequential([\n",
        "      Dense(12, activation='softmax', input_shape=((n+1),))\n",
        "  ])\n",
        "\n",
        "  nn2.compile(optimizer=SGD(lr), loss='sparse_categorical_crossentropy', metrics=['accuracy'])\n",
        "  nn2.fit(x_train, y_train, batch_size=bs, epochs=epochs, validation_data=(x_val, y_val), verbose=0 )\n",
        "  xt_predict = np.argmax(nn2.predict(Xt_new), axis=1)\n",
        "\n",
        "  f1 = f1_score(Yt, xt_predict, average='weighted')\n",
        "  print('Score usando ', (n+1), 'caracteristicas F1:',  f1)\n",
        "  if f1 > max:\n",
        "      max = f1\n",
        "      features = n+1\n",
        "print('Mejor Score usando ', features, 'caracteristicas F1:',  max)"
      ],
      "execution_count": 224,
      "outputs": [
        {
          "output_type": "stream",
          "text": [
            "Score usando  1 caracteristicas F1: 0.24048071355465453\n",
            "Score usando  2 caracteristicas F1: 0.23745780749302492\n",
            "Score usando  3 caracteristicas F1: 0.23947917724395337\n",
            "Score usando  4 caracteristicas F1: 0.24519265336868906\n",
            "Score usando  5 caracteristicas F1: 0.24405481138250698\n",
            "Score usando  6 caracteristicas F1: 0.31614515111787284\n",
            "Score usando  7 caracteristicas F1: 0.34209352755129924\n",
            "Score usando  8 caracteristicas F1: 0.3584786459073436\n",
            "Score usando  9 caracteristicas F1: 0.3858780035791726\n",
            "Score usando  10 caracteristicas F1: 0.3632503491447995\n",
            "Mejor Score usando  9 caracteristicas F1: 0.3858780035791726\n"
          ],
          "name": "stdout"
        }
      ]
    },
    {
      "cell_type": "markdown",
      "metadata": {
        "id": "gu89MjoXG_jI",
        "colab_type": "text"
      },
      "source": [
        "###Por wrapping - Backward elimination"
      ]
    },
    {
      "cell_type": "code",
      "metadata": {
        "id": "RK4KJakpKhdQ",
        "colab_type": "code",
        "colab": {}
      },
      "source": [
        "import matplotlib.pyplot as plt\n",
        "from sklearn.model_selection import StratifiedKFold\n",
        "from sklearn.feature_selection import RFECV"
      ],
      "execution_count": 228,
      "outputs": []
    },
    {
      "cell_type": "markdown",
      "metadata": {
        "id": "fofLcjwqKves",
        "colab_type": "text"
      },
      "source": [
        "####Decision Tree"
      ]
    },
    {
      "cell_type": "code",
      "metadata": {
        "id": "Mn_MNWe8HIed",
        "colab_type": "code",
        "colab": {
          "base_uri": "https://localhost:8080/",
          "height": 279
        },
        "outputId": "4365ec25-61cf-4e7e-9014-937ff140f703"
      },
      "source": [
        "model = DecisionTreeClassifier()\n",
        "rfecv = RFECV(estimator=model, step=1, cv=StratifiedKFold(2),scoring='accuracy')\n",
        "rfecv.fit(X, Y)\n",
        "plt.figure()\n",
        "plt.xlabel(\"Number of features selected\")\n",
        "plt.plot(range(1, len(rfecv.grid_scores_) + 1), rfecv.grid_scores_)\n",
        "plt.show()"
      ],
      "execution_count": 240,
      "outputs": [
        {
          "output_type": "display_data",
          "data": {
            "image/png": "[encoded data removed]",
            "text/plain": [
              "<Figure size 432x288 with 1 Axes>"
            ]
          },
          "metadata": {
            "tags": [],
            "needs_background": "light"
          }
        }
      ]
    },
    {
      "cell_type": "code",
      "metadata": {
        "id": "0SKnHPTrMdF8",
        "colab_type": "code",
        "colab": {
          "base_uri": "https://localhost:8080/",
          "height": 35
        },
        "outputId": "09e0fc68-ff2e-44c5-b106-a2860eb71806"
      },
      "source": [
        "rfecv.n_features_"
      ],
      "execution_count": 241,
      "outputs": [
        {
          "output_type": "execute_result",
          "data": {
            "text/plain": [
              "3"
            ]
          },
          "metadata": {
            "tags": []
          },
          "execution_count": 241
        }
      ]
    },
    {
      "cell_type": "code",
      "metadata": {
        "id": "T0-szYWcMpzJ",
        "colab_type": "code",
        "colab": {
          "base_uri": "https://localhost:8080/",
          "height": 35
        },
        "outputId": "3d0a1433-c70e-4b68-d113-41f6a6cf3c94"
      },
      "source": [
        "X_new = rfecv.transform(X)\n",
        "Xt_new = rfecv.transform(Xt)\n",
        "dt3 = DecisionTreeClassifier()\n",
        "dt3.fit(X_new, Y)\n",
        "acc = dt3.score(Xt_new, Yt)\n",
        "f1 = f1_score(Yt, dt3.predict(Xt_new), average='weighted')\n",
        "print('F1 Score: ', f1)"
      ],
      "execution_count": 243,
      "outputs": [
        {
          "output_type": "stream",
          "text": [
            "F1 Score:  0.9994426717770257\n"
          ],
          "name": "stdout"
        }
      ]
    },
    {
      "cell_type": "markdown",
      "metadata": {
        "id": "NuDm1TczKyaU",
        "colab_type": "text"
      },
      "source": [
        "####Random Forest"
      ]
    },
    {
      "cell_type": "code",
      "metadata": {
        "id": "5hkyFRxqKsZq",
        "colab_type": "code",
        "colab": {
          "base_uri": "https://localhost:8080/",
          "height": 279
        },
        "outputId": "23ad8ea4-5344-40d2-d368-f3ba1db11839"
      },
      "source": [
        "model = RandomForestClassifier(40, n_jobs=-1, oob_score=True)\n",
        "rfecv = RFECV(estimator=model, step=1, cv=StratifiedKFold(2),scoring='accuracy')\n",
        "rfecv.fit(X, Y)\n",
        "plt.figure()\n",
        "plt.xlabel(\"Number of features selected\")\n",
        "plt.plot(range(1, len(rfecv.grid_scores_) + 1), rfecv.grid_scores_)\n",
        "plt.show()"
      ],
      "execution_count": 244,
      "outputs": [
        {
          "output_type": "display_data",
          "data": {
            "image/png": "[encoded data removed]",
            "text/plain": [
              "<Figure size 432x288 with 1 Axes>"
            ]
          },
          "metadata": {
            "tags": [],
            "needs_background": "light"
          }
        }
      ]
    },
    {
      "cell_type": "code",
      "metadata": {
        "id": "NQwPj4X8MhTR",
        "colab_type": "code",
        "colab": {
          "base_uri": "https://localhost:8080/",
          "height": 35
        },
        "outputId": "c0663c4f-60a8-40e3-f164-06c8a48b69c7"
      },
      "source": [
        "rfecv.n_features_"
      ],
      "execution_count": 245,
      "outputs": [
        {
          "output_type": "execute_result",
          "data": {
            "text/plain": [
              "5"
            ]
          },
          "metadata": {
            "tags": []
          },
          "execution_count": 245
        }
      ]
    },
    {
      "cell_type": "code",
      "metadata": {
        "id": "B3aehAC0NJ6g",
        "colab_type": "code",
        "colab": {
          "base_uri": "https://localhost:8080/",
          "height": 35
        },
        "outputId": "966fe52d-12dd-489f-8dd1-48135cd5264d"
      },
      "source": [
        "X_new = rfecv.transform(X)\n",
        "Xt_new = rfecv.transform(Xt)\n",
        "rf3 = RandomForestClassifier(40, n_jobs=-1, oob_score=True)\n",
        "rf3.fit(X_new, Y)\n",
        "acc = rf3.score(Xt_new, Yt)\n",
        "f1 = f1_score(Yt, rf3.predict(Xt_new), average='weighted')\n",
        "print('F1 Score: ', f1)"
      ],
      "execution_count": 246,
      "outputs": [
        {
          "output_type": "stream",
          "text": [
            "F1 Score:  0.9994426717770257\n"
          ],
          "name": "stdout"
        }
      ]
    },
    {
      "cell_type": "markdown",
      "metadata": {
        "id": "aOBecEO4LCr0",
        "colab_type": "text"
      },
      "source": [
        "####KKN y Neural Network"
      ]
    },
    {
      "cell_type": "markdown",
      "metadata": {
        "id": "bpJthuZJLXqL",
        "colab_type": "text"
      },
      "source": [
        "KNN no expone la importancia de los features asi que no se puede analizar con RFECV y en las Neural Network tambien es complicado extraer esa informacion"
      ]
    },
    {
      "cell_type": "markdown",
      "metadata": {
        "id": "y0xJ5i9XMVp0",
        "colab_type": "text"
      },
      "source": [
        "###PCA"
      ]
    },
    {
      "cell_type": "code",
      "metadata": {
        "id": "_WElZhMLOHHK",
        "colab_type": "code",
        "colab": {}
      },
      "source": [
        "from sklearn.decomposition import PCA\n",
        "from sklearn.preprocessing import StandardScaler\n"
      ],
      "execution_count": 315,
      "outputs": []
    },
    {
      "cell_type": "code",
      "metadata": {
        "id": "1ZnJheBiUo7P",
        "colab_type": "code",
        "colab": {
          "base_uri": "https://localhost:8080/",
          "height": 224
        },
        "outputId": "248252ee-07a8-43f3-ce5e-19af677bb762"
      },
      "source": [
        "pca = PCA().fit(X)\n",
        "pd.DataFrame(pca.components_, columns=X.columns).head()"
      ],
      "execution_count": 323,
      "outputs": [
        {
          "output_type": "execute_result",
          "data": {
            "text/html": [
              "<div>\n",
              "<style scoped>\n",
              "    .dataframe tbody tr th:only-of-type {\n",
              "        vertical-align: middle;\n",
              "    }\n",
              "\n",
              "    .dataframe tbody tr th {\n",
              "        vertical-align: top;\n",
              "    }\n",
              "\n",
              "    .dataframe thead th {\n",
              "        text-align: right;\n",
              "    }\n",
              "</style>\n",
              "<table border=\"1\" class=\"dataframe\">\n",
              "  <thead>\n",
              "    <tr style=\"text-align: right;\">\n",
              "      <th></th>\n",
              "      <th>intercolumnar_distance</th>\n",
              "      <th>upper_margin</th>\n",
              "      <th>lower_margin</th>\n",
              "      <th>exploitation</th>\n",
              "      <th>row_number</th>\n",
              "      <th>modular_ratio</th>\n",
              "      <th>interlinear_spacing</th>\n",
              "      <th>weight</th>\n",
              "      <th>peak_number</th>\n",
              "      <th>mr_is</th>\n",
              "    </tr>\n",
              "  </thead>\n",
              "  <tbody>\n",
              "    <tr>\n",
              "      <th>0</th>\n",
              "      <td>-0.009083</td>\n",
              "      <td>0.957011</td>\n",
              "      <td>0.121752</td>\n",
              "      <td>0.007317</td>\n",
              "      <td>-0.013462</td>\n",
              "      <td>0.129084</td>\n",
              "      <td>0.204408</td>\n",
              "      <td>0.013400</td>\n",
              "      <td>0.101592</td>\n",
              "      <td>0.006565</td>\n",
              "    </tr>\n",
              "    <tr>\n",
              "      <th>1</th>\n",
              "      <td>-0.061582</td>\n",
              "      <td>0.169811</td>\n",
              "      <td>-0.014367</td>\n",
              "      <td>-0.380148</td>\n",
              "      <td>-0.221999</td>\n",
              "      <td>-0.500088</td>\n",
              "      <td>-0.288850</td>\n",
              "      <td>-0.154483</td>\n",
              "      <td>-0.316687</td>\n",
              "      <td>-0.561864</td>\n",
              "    </tr>\n",
              "    <tr>\n",
              "      <th>2</th>\n",
              "      <td>0.138759</td>\n",
              "      <td>0.015781</td>\n",
              "      <td>0.179414</td>\n",
              "      <td>0.264940</td>\n",
              "      <td>0.188124</td>\n",
              "      <td>-0.361977</td>\n",
              "      <td>-0.229689</td>\n",
              "      <td>0.558442</td>\n",
              "      <td>0.520789</td>\n",
              "      <td>-0.275428</td>\n",
              "    </tr>\n",
              "    <tr>\n",
              "      <th>3</th>\n",
              "      <td>-0.659258</td>\n",
              "      <td>-0.000829</td>\n",
              "      <td>-0.072878</td>\n",
              "      <td>0.251677</td>\n",
              "      <td>-0.614244</td>\n",
              "      <td>0.077167</td>\n",
              "      <td>-0.096610</td>\n",
              "      <td>0.319141</td>\n",
              "      <td>-0.012061</td>\n",
              "      <td>0.046319</td>\n",
              "    </tr>\n",
              "    <tr>\n",
              "      <th>4</th>\n",
              "      <td>0.046082</td>\n",
              "      <td>0.132249</td>\n",
              "      <td>-0.908548</td>\n",
              "      <td>-0.194622</td>\n",
              "      <td>0.093387</td>\n",
              "      <td>0.063997</td>\n",
              "      <td>-0.209929</td>\n",
              "      <td>0.141306</td>\n",
              "      <td>0.192317</td>\n",
              "      <td>0.056644</td>\n",
              "    </tr>\n",
              "  </tbody>\n",
              "</table>\n",
              "</div>"
            ],
            "text/plain": [
              "   intercolumnar_distance  upper_margin  ...  peak_number     mr_is\n",
              "0               -0.009083      0.957011  ...     0.101592  0.006565\n",
              "1               -0.061582      0.169811  ...    -0.316687 -0.561864\n",
              "2                0.138759      0.015781  ...     0.520789 -0.275428\n",
              "3               -0.659258     -0.000829  ...    -0.012061  0.046319\n",
              "4                0.046082      0.132249  ...     0.192317  0.056644\n",
              "\n",
              "[5 rows x 10 columns]"
            ]
          },
          "metadata": {
            "tags": []
          },
          "execution_count": 323
        }
      ]
    },
    {
      "cell_type": "code",
      "metadata": {
        "id": "lcitFOYSVHxG",
        "colab_type": "code",
        "colab": {
          "base_uri": "https://localhost:8080/",
          "height": 265
        },
        "outputId": "89489962-440f-43c7-db89-3422796fcfc8"
      },
      "source": [
        "per_var = np.round(pca.explained_variance_ratio_*100, decimals=5)\n",
        "labels = ['PC' + str(x) for x in range(1, len(per_var) + 1)]\n",
        "plt.plot(labels, np.cumsum(pca.explained_variance_ratio_), '-s')\n",
        "plt.show()"
      ],
      "execution_count": 324,
      "outputs": [
        {
          "output_type": "display_data",
          "data": {
            "image/png": "[encoded data removed]",
            "text/plain": [
              "<Figure size 432x288 with 1 Axes>"
            ]
          },
          "metadata": {
            "tags": [],
            "needs_background": "light"
          }
        }
      ]
    },
    {
      "cell_type": "code",
      "metadata": {
        "id": "x9enNdwpXThG",
        "colab_type": "code",
        "colab": {
          "base_uri": "https://localhost:8080/",
          "height": 265
        },
        "outputId": "349d8d22-8f50-431e-c32f-dae313338d82"
      },
      "source": [
        "plt.bar(x=range(1, len(per_var) + 1), height=per_var, tick_label = labels)\n",
        "plt.show()"
      ],
      "execution_count": 325,
      "outputs": [
        {
          "output_type": "display_data",
          "data": {
            "image/png": "[encoded data removed]",
            "text/plain": [
              "<Figure size 432x288 with 1 Axes>"
            ]
          },
          "metadata": {
            "tags": [],
            "needs_background": "light"
          }
        }
      ]
    },
    {
      "cell_type": "markdown",
      "metadata": {
        "id": "Iu9MlDOSqExc",
        "colab_type": "text"
      },
      "source": [
        "####Decision Tree"
      ]
    },
    {
      "cell_type": "code",
      "metadata": {
        "id": "_1p21YEJpuoy",
        "colab_type": "code",
        "colab": {
          "base_uri": "https://localhost:8080/",
          "height": 215
        },
        "outputId": "a73d8b8b-56fb-4a58-e98d-b75beb8ab155"
      },
      "source": [
        "max = 0\n",
        "components = 0\n",
        "for n in range(10):\n",
        "  pca = PCA(n_components=(n+1))\n",
        "  X_new = pca.fit_transform(X)\n",
        "  Xt_new = pca.transform(Xt)\n",
        "  dt4 = DecisionTreeClassifier()\n",
        "  dt4.fit(X_new, Y)\n",
        "  acc = dt4.score(Xt_new, Yt)\n",
        "  f1 = f1_score(Yt, dt4.predict(Xt_new), average='weighted')\n",
        "  print('Score usando ', (n+1), 'componentes F1:',  f1, ' acurracy: ', acc )\n",
        "  if f1 > max:\n",
        "      max = f1\n",
        "      components = n+1\n",
        "print('Mejor Score usando ', components, 'componentes F1:',  max)"
      ],
      "execution_count": 326,
      "outputs": [
        {
          "output_type": "stream",
          "text": [
            "Score usando  1 componentes F1: 0.2743568281314741  acurracy:  0.2743125419181757\n",
            "Score usando  2 componentes F1: 0.33207167444371993  acurracy:  0.3304589441410367\n",
            "Score usando  3 componentes F1: 0.4047887707738856  acurracy:  0.4031809907061416\n",
            "Score usando  4 componentes F1: 0.5087510822010975  acurracy:  0.5080961962249688\n",
            "Score usando  5 componentes F1: 0.540992201384299  acurracy:  0.5400977292325381\n",
            "Score usando  6 componentes F1: 0.5580209558995907  acurracy:  0.5565775606017055\n",
            "Score usando  7 componentes F1: 0.6243048741517969  acurracy:  0.6240298936475999\n",
            "Score usando  8 componentes F1: 0.6333301935353234  acurracy:  0.632173996359107\n",
            "Score usando  9 componentes F1: 0.6412902033039984  acurracy:  0.640126473124461\n",
            "Score usando  10 componentes F1: 0.6422116964807684  acurracy:  0.6412762288013797\n",
            "Mejor Score usando  10 componentes F1: 0.6422116964807684\n"
          ],
          "name": "stdout"
        }
      ]
    },
    {
      "cell_type": "code",
      "metadata": {
        "id": "Dn17SjcRrmfZ",
        "colab_type": "code",
        "colab": {
          "base_uri": "https://localhost:8080/",
          "height": 215
        },
        "outputId": "c8b76fd8-564f-4bc3-9d7d-0962a2ca7e0d"
      },
      "source": [
        "max = 0\n",
        "components = 0\n",
        "for n in range(10):\n",
        "  pca = PCA(n_components=(n+1))\n",
        "  X_new = pca.fit_transform(X)\n",
        "  Xt_new = pca.transform(Xt)\n",
        "  rf4 = RandomForestClassifier(40, n_jobs=-1, oob_score=True)\n",
        "  rf4.fit(X_new, Y)\n",
        "  acc = rf4.score(Xt_new, Yt)\n",
        "  f1 = f1_score(Yt, rf4.predict(Xt_new), average='weighted')\n",
        "  print('Score usando ', (n+1), 'componentes F1:',  f1, ' acurracy: ', acc )\n",
        "  if f1 > max:\n",
        "      max = f1\n",
        "      components = n+1\n",
        "print('Mejor Score usando ', components, 'componentes F1:',  max)"
      ],
      "execution_count": 327,
      "outputs": [
        {
          "output_type": "stream",
          "text": [
            "Score usando  1 componentes F1: 0.2749037469416072  acurracy:  0.2750790457027882\n",
            "Score usando  2 componentes F1: 0.37681149099575095  acurracy:  0.3983903420523139\n",
            "Score usando  3 componentes F1: 0.4732583958178551  acurracy:  0.5047427421672894\n",
            "Score usando  4 componentes F1: 0.5870274711428315  acurracy:  0.6064961195745904\n",
            "Score usando  5 componentes F1: 0.6440431867887464  acurracy:  0.6602471974705375\n",
            "Score usando  6 componentes F1: 0.6621817350698744  acurracy:  0.6784516623550829\n",
            "Score usando  7 componentes F1: 0.7267762588495243  acurracy:  0.7357478202548625\n",
            "Score usando  8 componentes F1: 0.7519667956105452  acurracy:  0.7594136246047715\n",
            "Score usando  9 componentes F1: 0.7683229160339771  acurracy:  0.7750311392162499\n",
            "Score usando  10 componentes F1: 0.7604426973155152  acurracy:  0.7686116700201208\n",
            "Mejor Score usando  9 componentes F1: 0.7683229160339771\n"
          ],
          "name": "stdout"
        }
      ]
    },
    {
      "cell_type": "code",
      "metadata": {
        "id": "gIDd9loXuTwL",
        "colab_type": "code",
        "colab": {
          "base_uri": "https://localhost:8080/",
          "height": 215
        },
        "outputId": "242a94f6-5f75-4dcd-a622-2bb289cf3e61"
      },
      "source": [
        "max = 0\n",
        "components = 0\n",
        "for n in range(10):\n",
        "  pca = PCA(n_components=(n+1))\n",
        "  X_new = pca.fit_transform(X)\n",
        "  Xt_new = pca.transform(Xt)\n",
        "  knn4 = KNeighborsClassifier(4)\n",
        "  knn4.fit(X_new, Y)\n",
        "  acc = knn4.score(Xt_new, Yt)\n",
        "  f1 = f1_score(Yt, knn4.predict(Xt_new), average='weighted')\n",
        "  print('Score usando ', (n+1), 'componentes F1:',  f1, ' acurracy: ', acc )\n",
        "  if f1 > max:\n",
        "      max = f1\n",
        "      components = n+1\n",
        "print('Mejor Score usando ', components, 'componentes F1:',  max)"
      ],
      "execution_count": 328,
      "outputs": [
        {
          "output_type": "stream",
          "text": [
            "Score usando  1 componentes F1: 0.2972770241113103  acurracy:  0.35240011497556767\n",
            "Score usando  2 componentes F1: 0.3697741875204541  acurracy:  0.40634281881766793\n",
            "Score usando  3 componentes F1: 0.44457512458753606  acurracy:  0.4773402318673948\n",
            "Score usando  4 componentes F1: 0.5568326103147813  acurracy:  0.5785187314362364\n",
            "Score usando  5 componentes F1: 0.6153857628005514  acurracy:  0.6289163552745042\n",
            "Score usando  6 componentes F1: 0.6377833166047439  acurracy:  0.6511449650282648\n",
            "Score usando  7 componentes F1: 0.7101383436372846  acurracy:  0.7183098591549296\n",
            "Score usando  8 componentes F1: 0.7355803369231538  acurracy:  0.7419756635048386\n",
            "Score usando  9 componentes F1: 0.7477476843298266  acurracy:  0.7539522851394079\n",
            "Score usando  10 componentes F1: 0.7460663076554264  acurracy:  0.7525150905432596\n",
            "Mejor Score usando  9 componentes F1: 0.7477476843298266\n"
          ],
          "name": "stdout"
        }
      ]
    }
  ]
}